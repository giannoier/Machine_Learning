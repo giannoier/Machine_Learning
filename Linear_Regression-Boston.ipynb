{
 "cells": [
  {
   "cell_type": "code",
   "execution_count": 290,
   "metadata": {},
   "outputs": [],
   "source": [
    "import pandas as pd\n",
    "import numpy as np\n",
    "import seaborn as sns\n",
    "import matplotlib.pyplot as plt\n",
    "\n",
    "from sklearn.linear_model import LinearRegression\n",
    "from sklearn.linear_model import Ridge\n",
    "from sklearn.linear_model import Lasso\n",
    "from sklearn.linear_model import ElasticNet\n",
    "\n",
    "from sklearn.pipeline import Pipeline\n",
    "from sklearn.preprocessing import StandardScaler\n",
    "from sklearn.preprocessing import PolynomialFeatures\n",
    "\n",
    "from sklearn.metrics import mean_squared_error\n",
    "from math import sqrt\n",
    "\n",
    "%matplotlib inline"
   ]
  },
  {
   "cell_type": "code",
   "execution_count": 291,
   "metadata": {},
   "outputs": [],
   "source": [
    "from sklearn.datasets import load_boston"
   ]
  },
  {
   "cell_type": "code",
   "execution_count": 292,
   "metadata": {},
   "outputs": [],
   "source": [
    "boston = load_boston()"
   ]
  },
  {
   "cell_type": "code",
   "execution_count": 293,
   "metadata": {},
   "outputs": [],
   "source": [
    "df = pd.DataFrame(boston['data'], columns = boston.feature_names)"
   ]
  },
  {
   "cell_type": "code",
   "execution_count": 324,
   "metadata": {},
   "outputs": [],
   "source": [
    "X = boston['data']\n",
    "y = boston['target']"
   ]
  },
  {
   "cell_type": "code",
   "execution_count": 296,
   "metadata": {},
   "outputs": [],
   "source": [
    "from sklearn.model_selection import train_test_split "
   ]
  },
  {
   "cell_type": "code",
   "execution_count": 297,
   "metadata": {},
   "outputs": [],
   "source": [
    "X_train, X_test, y_train, y_test = train_test_split(X,y, test_size=0.33, random_state=101)"
   ]
  },
  {
   "cell_type": "code",
   "execution_count": 298,
   "metadata": {},
   "outputs": [],
   "source": [
    "steps = [\n",
    "    ('scalar', StandardScaler()),\n",
    "    ('polynomial', PolynomialFeatures(degree=2)),\n",
    "    ('model', Lasso(alpha=0.01, fit_intercept=True, max_iter= 10000))\n",
    "]"
   ]
  },
  {
   "cell_type": "code",
   "execution_count": 299,
   "metadata": {},
   "outputs": [],
   "source": [
    "lasso_pipe = Pipeline(steps)"
   ]
  },
  {
   "cell_type": "code",
   "execution_count": 300,
   "metadata": {
    "scrolled": true
   },
   "outputs": [
    {
     "data": {
      "text/plain": [
       "Pipeline(memory=None,\n",
       "     steps=[('scalar', StandardScaler(copy=True, with_mean=True, with_std=True)), ('polynomial', PolynomialFeatures(degree=2, include_bias=True, interaction_only=False)), ('model', Lasso(alpha=0.01, copy_X=True, fit_intercept=True, max_iter=10000,\n",
       "   normalize=False, positive=False, precompute=False, random_state=None,\n",
       "   selection='cyclic', tol=0.0001, warm_start=False))])"
      ]
     },
     "execution_count": 300,
     "metadata": {},
     "output_type": "execute_result"
    }
   ],
   "source": [
    "lasso_pipe.fit(X_train, y_train)"
   ]
  },
  {
   "cell_type": "code",
   "execution_count": 301,
   "metadata": {},
   "outputs": [
    {
     "name": "stdout",
     "output_type": "stream",
     "text": [
      "Training score: 0.9204269245480433\n",
      "Test score: 0.8639861876903534\n"
     ]
    }
   ],
   "source": [
    "print('Training score: {}'.format(lasso_pipe.score(X_train, y_train)))\n",
    "print('Test score: {}'.format(lasso_pipe.score(X_test, y_test)))"
   ]
  },
  {
   "cell_type": "code",
   "execution_count": 302,
   "metadata": {},
   "outputs": [
    {
     "name": "stdout",
     "output_type": "stream",
     "text": [
      "rmse 3.753372748020969\n"
     ]
    }
   ],
   "source": [
    "predictions = lasso_pipe.predict(X_test)\n",
    "print('rmse {}' .format(sqrt(mean_squared_error(y_test,predictions))))"
   ]
  },
  {
   "cell_type": "code",
   "execution_count": 303,
   "metadata": {},
   "outputs": [
    {
     "data": {
      "text/plain": [
       "array([ 0.00000000e+00, -0.00000000e+00,  5.57382192e-02,  1.11001715e+00,\n",
       "        0.00000000e+00, -1.40824800e+00,  2.60754387e+00, -9.35771222e-01,\n",
       "       -2.42567351e+00,  6.32800136e-02, -0.00000000e+00, -3.86628718e-01,\n",
       "        8.81981791e-01, -3.71686906e+00,  6.22738584e-02, -0.00000000e+00,\n",
       "       -0.00000000e+00,  1.14362153e+00, -1.07520226e+00,  6.59091635e-01,\n",
       "        0.00000000e+00, -0.00000000e+00, -6.41640561e-01,  0.00000000e+00,\n",
       "       -0.00000000e+00, -1.51050849e-01,  6.49090716e-01, -2.17783329e-03,\n",
       "       -2.02907087e-01, -2.97665543e-02, -0.00000000e+00,  3.43712190e-01,\n",
       "       -5.29730412e-01, -5.26896173e-01, -0.00000000e+00,  1.30770460e+00,\n",
       "        0.00000000e+00,  0.00000000e+00, -3.48649567e-01,  2.23476342e-01,\n",
       "        2.00942326e-01,  2.63262236e+00,  0.00000000e+00,  2.76928597e-01,\n",
       "        1.30616188e+00, -0.00000000e+00,  2.17313940e-01, -0.00000000e+00,\n",
       "       -0.00000000e+00, -1.31074549e+00,  2.75781849e-01, -1.64590506e-01,\n",
       "        3.72125824e-02, -0.00000000e+00,  6.80727463e-01, -0.00000000e+00,\n",
       "        2.76019320e-01,  8.18238918e-02,  0.00000000e+00,  0.00000000e+00,\n",
       "       -5.92955105e-01, -0.00000000e+00, -1.00921405e+00,  1.04995368e+00,\n",
       "       -7.14781943e-01,  0.00000000e+00, -6.67294840e-01, -0.00000000e+00,\n",
       "        8.48231770e-02,  1.67763493e-01, -5.69088994e-01,  1.33946495e-02,\n",
       "       -1.13495766e+00, -0.00000000e+00, -9.70065811e-01, -2.39602237e-01,\n",
       "       -5.84050351e-01, -1.78089781e-03, -2.90360982e-01,  2.77057084e+00,\n",
       "       -1.69494786e+00,  7.42823121e-03, -1.69031684e+00, -6.89392971e-01,\n",
       "        1.54238953e+00, -7.96340214e-01, -9.15538289e-01,  0.00000000e+00,\n",
       "       -3.63661191e-01,  9.49883321e-01, -4.45494271e+00,  3.50135700e+00,\n",
       "        0.00000000e+00, -3.94526788e-01, -1.69484412e+00,  1.89809683e-01,\n",
       "        2.18415293e+00, -0.00000000e+00, -4.03398574e-01,  0.00000000e+00,\n",
       "        7.24829202e-02, -5.11135765e-01, -2.16715851e-01,  2.54094200e-02,\n",
       "        1.51379355e+00])"
      ]
     },
     "execution_count": 303,
     "metadata": {},
     "output_type": "execute_result"
    }
   ],
   "source": [
    "lasso_pipe.named_steps['model'].coef_"
   ]
  },
  {
   "cell_type": "code",
   "execution_count": 314,
   "metadata": {},
   "outputs": [],
   "source": [
    "data = pd.DataFrame([predictions,y_test], index = ['predictions','y_test']).transpose()"
   ]
  },
  {
   "cell_type": "code",
   "execution_count": 316,
   "metadata": {},
   "outputs": [
    {
     "data": {
      "text/html": [
       "<div>\n",
       "<style scoped>\n",
       "    .dataframe tbody tr th:only-of-type {\n",
       "        vertical-align: middle;\n",
       "    }\n",
       "\n",
       "    .dataframe tbody tr th {\n",
       "        vertical-align: top;\n",
       "    }\n",
       "\n",
       "    .dataframe thead th {\n",
       "        text-align: right;\n",
       "    }\n",
       "</style>\n",
       "<table border=\"1\" class=\"dataframe\">\n",
       "  <thead>\n",
       "    <tr style=\"text-align: right;\">\n",
       "      <th></th>\n",
       "      <th>predictions</th>\n",
       "      <th>y_test</th>\n",
       "    </tr>\n",
       "  </thead>\n",
       "  <tbody>\n",
       "    <tr>\n",
       "      <th>0</th>\n",
       "      <td>46.631644</td>\n",
       "      <td>50.0</td>\n",
       "    </tr>\n",
       "    <tr>\n",
       "      <th>1</th>\n",
       "      <td>29.260410</td>\n",
       "      <td>36.2</td>\n",
       "    </tr>\n",
       "    <tr>\n",
       "      <th>2</th>\n",
       "      <td>17.020394</td>\n",
       "      <td>11.7</td>\n",
       "    </tr>\n",
       "    <tr>\n",
       "      <th>3</th>\n",
       "      <td>15.267935</td>\n",
       "      <td>14.9</td>\n",
       "    </tr>\n",
       "    <tr>\n",
       "      <th>4</th>\n",
       "      <td>28.443382</td>\n",
       "      <td>30.8</td>\n",
       "    </tr>\n",
       "  </tbody>\n",
       "</table>\n",
       "</div>"
      ],
      "text/plain": [
       "   predictions  y_test\n",
       "0    46.631644    50.0\n",
       "1    29.260410    36.2\n",
       "2    17.020394    11.7\n",
       "3    15.267935    14.9\n",
       "4    28.443382    30.8"
      ]
     },
     "execution_count": 316,
     "metadata": {},
     "output_type": "execute_result"
    }
   ],
   "source": [
    "data.head()"
   ]
  },
  {
   "cell_type": "code",
   "execution_count": 323,
   "metadata": {},
   "outputs": [
    {
     "name": "stderr",
     "output_type": "stream",
     "text": [
      "/home/mariza/anaconda3/lib/python3.6/site-packages/matplotlib/axes/_axes.py:6462: UserWarning: The 'normed' kwarg is deprecated, and has been replaced by the 'density' kwarg.\n",
      "  warnings.warn(\"The 'normed' kwarg is deprecated, and has been \"\n"
     ]
    },
    {
     "data": {
      "text/plain": [
       "<matplotlib.axes._subplots.AxesSubplot at 0x7fb2f05eaeb8>"
      ]
     },
     "execution_count": 323,
     "metadata": {},
     "output_type": "execute_result"
    },
    {
     "data": {
      "image/png": "[encoded data removed]",
      "text/plain": [
       "<Figure size 432x288 with 1 Axes>"
      ]
     },
     "metadata": {},
     "output_type": "display_data"
    }
   ],
   "source": [
    "sns.distplot(predictions - y_test, bins = 50)"
   ]
  },
  {
   "cell_type": "code",
   "execution_count": null,
   "metadata": {},
   "outputs": [],
   "source": []
  }
 ],
 "metadata": {
  "kernelspec": {
   "display_name": "Python 3",
   "language": "python",
   "name": "python3"
  },
  "language_info": {
   "codemirror_mode": {
    "name": "ipython",
    "version": 3
   },
   "file_extension": ".py",
   "mimetype": "text/x-python",
   "name": "python",
   "nbconvert_exporter": "python",
   "pygments_lexer": "ipython3",
   "version": "3.5.2"
  }
 },
 "nbformat": 4,
 "nbformat_minor": 2
}
